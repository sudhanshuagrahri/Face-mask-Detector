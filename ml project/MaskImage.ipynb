{
 "cells": [
  {
   "cell_type": "code",
   "execution_count": 1,
   "metadata": {
    "executionInfo": {
     "elapsed": 1242,
     "status": "ok",
     "timestamp": 1603822477583,
     "user": {
      "displayName": "SUDHANSHU",
      "photoUrl": "",
      "userId": "17208073410141605468"
     },
     "user_tz": -330
    },
    "id": "iwSAhrCQikaC"
   },
   "outputs": [],
   "source": [
    "from tensorflow.keras.applications.mobilenet_v2 import preprocess_input\n",
    "from tensorflow.keras.preprocessing.image import img_to_array\n",
    "from tensorflow.keras.models import load_model\n",
    "import numpy as np\n",
    "import cv2\n",
    "import os\n"
   ]
  },
  {
   "cell_type": "code",
   "execution_count": 2,
   "metadata": {
    "executionInfo": {
     "elapsed": 1615,
     "status": "ok",
     "timestamp": 1603822067920,
     "user": {
      "displayName": "SUDHANSHU",
      "photoUrl": "",
      "userId": "17208073410141605468"
     },
     "user_tz": -330
    },
    "id": "lNUK7F4JizJV"
   },
   "outputs": [],
   "source": [
    "prototxtPath=os.path.sep.join([r'C:\\Users\\hp\\Documents\\ml project','deploy.prototxt'])\n",
    "weightsPath=os.path.sep.join([r'C:\\Users\\hp\\Documents\\ml project','res10_300x300_ssd_iter_140000.caffemodel'])\n"
   ]
  },
  {
   "cell_type": "code",
   "execution_count": 3,
   "metadata": {
    "executionInfo": {
     "elapsed": 3134,
     "status": "ok",
     "timestamp": 1603822075940,
     "user": {
      "displayName": "SUDHANSHU",
      "photoUrl": "",
      "userId": "17208073410141605468"
     },
     "user_tz": -330
    },
    "id": "hntMbxJsi5xU"
   },
   "outputs": [],
   "source": [
    "net=cv2.dnn.readNet(prototxtPath,weightsPath)"
   ]
  },
  {
   "cell_type": "code",
   "execution_count": 4,
   "metadata": {
    "executionInfo": {
     "elapsed": 16869,
     "status": "ok",
     "timestamp": 1603822129708,
     "user": {
      "displayName": "SUDHANSHU",
      "photoUrl": "",
      "userId": "17208073410141605468"
     },
     "user_tz": -330
    },
    "id": "Y6IyrUl3i-B4"
   },
   "outputs": [],
   "source": [
    "model=load_model(r'C:\\Users\\hp\\Documents\\ml project\\mobilenet_v2.model')\n"
   ]
  },
  {
   "cell_type": "code",
   "execution_count": 11,
   "metadata": {
    "executionInfo": {
     "elapsed": 1418,
     "status": "ok",
     "timestamp": 1603822182357,
     "user": {
      "displayName": "SUDHANSHU",
      "photoUrl": "",
      "userId": "17208073410141605468"
     },
     "user_tz": -330
    },
    "id": "XkgsI-QJjJZG"
   },
   "outputs": [],
   "source": [
    "image=cv2.imread(r'C:\\Users\\hp\\Documents\\ml project\\16.jpg')\n"
   ]
  },
  {
   "cell_type": "code",
   "execution_count": 12,
   "metadata": {
    "executionInfo": {
     "elapsed": 697,
     "status": "ok",
     "timestamp": 1603822194689,
     "user": {
      "displayName": "SUDHANSHU",
      "photoUrl": "",
      "userId": "17208073410141605468"
     },
     "user_tz": -330
    },
    "id": "Y0fU9ntXjNZ_"
   },
   "outputs": [],
   "source": [
    "(h,w)=image.shape[:2]\n"
   ]
  },
  {
   "cell_type": "code",
   "execution_count": 13,
   "metadata": {
    "executionInfo": {
     "elapsed": 1305,
     "status": "ok",
     "timestamp": 1603822198623,
     "user": {
      "displayName": "SUDHANSHU",
      "photoUrl": "",
      "userId": "17208073410141605468"
     },
     "user_tz": -330
    },
    "id": "a3D1J2J4jSat"
   },
   "outputs": [],
   "source": [
    "blob=cv2.dnn.blobFromImage(image,1.0,(300,300),(104.0,177.0,123.0))"
   ]
  },
  {
   "cell_type": "code",
   "execution_count": 14,
   "metadata": {
    "executionInfo": {
     "elapsed": 1536,
     "status": "ok",
     "timestamp": 1603822201679,
     "user": {
      "displayName": "SUDHANSHU",
      "photoUrl": "",
      "userId": "17208073410141605468"
     },
     "user_tz": -330
    },
    "id": "CzbY4f1cjV7s"
   },
   "outputs": [],
   "source": [
    "net.setInput(blob)\n",
    "detections=net.forward()"
   ]
  },
  {
   "cell_type": "code",
   "execution_count": 15,
   "metadata": {
    "executionInfo": {
     "elapsed": 2769,
     "status": "ok",
     "timestamp": 1603822215753,
     "user": {
      "displayName": "SUDHANSHU",
      "photoUrl": "",
      "userId": "17208073410141605468"
     },
     "user_tz": -330
    },
    "id": "Lcv52lhXjeQs"
   },
   "outputs": [],
   "source": [
    "#loop over the detections\n",
    "for i in range(0,detections.shape[2]):\n",
    "    confidence=detections[0,0,i,2]\n",
    "    \n",
    "    \n",
    "    if confidence>0.5:\n",
    "        #we need the X,Y coordinates\n",
    "        box=detections[0,0,i,3:7]*np.array([w,h,w,h])\n",
    "        (startX,startY,endX,endY)=box.astype('int')\n",
    "        \n",
    "        #ensure the bounding boxes fall within the dimensions of the frame\n",
    "        (startX,startY)=(max(0,startX),max(0,startY))\n",
    "        (endX,endY)=(min(w-1,endX), min(h-1,endY))\n",
    "        \n",
    "        \n",
    "        #extract the face ROI, convert it from BGR to RGB channel, resize it to 224,224 and preprocess it\n",
    "        face=image[startY:endY, startX:endX]\n",
    "        face=cv2.cvtColor(face,cv2.COLOR_BGR2RGB)\n",
    "        face=cv2.resize(face,(224,224))\n",
    "        face=img_to_array(face)\n",
    "        face=preprocess_input(face)\n",
    "        face=np.expand_dims(face,axis=0)\n",
    "        \n",
    "        (mask,withoutMask)=model.predict(face)[0]\n",
    "        \n",
    "        #determine the class label and color we will use to draw the bounding box and text\n",
    "        label='Mask' if mask>withoutMask else 'No Mask'\n",
    "        color=(0,255,0) if label=='Mask' else (0,0,255)\n",
    "        \n",
    "        #include the probability in the label\n",
    "        label=\"{}: {:.2f}%\".format(label,max(mask,withoutMask)*100)\n",
    "        \n",
    "        #display the label and bounding boxes\n",
    "        cv2.putText(image,label,(startX,startY-10),cv2.FONT_HERSHEY_SIMPLEX,0.45,color,2)\n",
    "        cv2.rectangle(image,(startX,startY),(endX,endY),color,2)"
   ]
  },
  {
   "cell_type": "code",
   "execution_count": null,
   "metadata": {
    "colab": {
     "base_uri": "https://localhost:8080/",
     "height": 417
    },
    "executionInfo": {
     "elapsed": 2735,
     "status": "ok",
     "timestamp": 1603822632355,
     "user": {
      "displayName": "SUDHANSHU",
      "photoUrl": "",
      "userId": "17208073410141605468"
     },
     "user_tz": -330
    },
    "id": "stqS3kmqjjv9",
    "outputId": "746051a0-8a41-42d8-8a5d-217f80c584f8"
   },
   "outputs": [],
   "source": [
    "cv2.imshow(\"Check of mask\",image)\n",
    "cv2.waitKey(0)\n",
    "cv2.destroyAllWindows()\n"
   ]
  },
  {
   "cell_type": "code",
   "execution_count": null,
   "metadata": {},
   "outputs": [],
   "source": []
  },
  {
   "cell_type": "code",
   "execution_count": null,
   "metadata": {},
   "outputs": [],
   "source": []
  },
  {
   "cell_type": "code",
   "execution_count": null,
   "metadata": {},
   "outputs": [],
   "source": []
  }
 ],
 "metadata": {
  "colab": {
   "authorship_tag": "ABX9TyO8S/ygpa4S/FTcGva18DCr",
   "collapsed_sections": [],
   "name": "MaskImage.ipynb",
   "provenance": []
  },
  "kernelspec": {
   "display_name": "Python 3",
   "language": "python",
   "name": "python3"
  },
  "language_info": {
   "codemirror_mode": {
    "name": "ipython",
    "version": 3
   },
   "file_extension": ".py",
   "mimetype": "text/x-python",
   "name": "python",
   "nbconvert_exporter": "python",
   "pygments_lexer": "ipython3",
   "version": "3.7.9"
  }
 },
 "nbformat": 4,
 "nbformat_minor": 1
}
